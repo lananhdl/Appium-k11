{
 "cells": [
  {
   "cell_type": "code",
   "execution_count": 1,
   "id": "86ec3a93",
   "metadata": {
    "_cell_guid": "b1076dfc-b9ad-4769-8c92-a6c4dae69d19",
    "_uuid": "8f2839f25d086af736a60e9eeb907d3b93b6e0e5",
    "execution": {
     "iopub.execute_input": "2025-05-04T07:37:04.990193Z",
     "iopub.status.busy": "2025-05-04T07:37:04.989825Z",
     "iopub.status.idle": "2025-05-04T07:37:05.243767Z",
     "shell.execute_reply": "2025-05-04T07:37:05.242555Z"
    },
    "papermill": {
     "duration": 0.259179,
     "end_time": "2025-05-04T07:37:05.245808",
     "exception": false,
     "start_time": "2025-05-04T07:37:04.986629",
     "status": "completed"
    },
    "tags": []
   },
   "outputs": [
    {
     "name": "stdout",
     "output_type": "stream",
     "text": [
      "deeplearningv1\r\n",
      " Code   Data   envname.yml  'Khoá học deep learning.pdf'   LICENSE   README.md\r\n"
     ]
    }
   ],
   "source": [
    "!ls /kaggle/input\n",
    "!ls /kaggle/input/deeplearningv1/DeepLearningCourse-main"
   ]
  }
 ],
 "metadata": {
  "kaggle": {
   "accelerator": "none",
   "dataSources": [
    {
     "datasetId": 7323498,
     "sourceId": 11669522,
     "sourceType": "datasetVersion"
    }
   ],
   "isGpuEnabled": false,
   "isInternetEnabled": false,
   "language": "python",
   "sourceType": "notebook"
  },
  "kernelspec": {
   "display_name": "Python 3",
   "language": "python",
   "name": "python3"
  },
  "language_info": {
   "codemirror_mode": {
    "name": "ipython",
    "version": 3
   },
   "file_extension": ".py",
   "mimetype": "text/x-python",
   "name": "python",
   "nbconvert_exporter": "python",
   "pygments_lexer": "ipython3",
   "version": "3.11.11"
  },
  "papermill": {
   "default_parameters": {},
   "duration": 6.100823,
   "end_time": "2025-05-04T07:37:05.669285",
   "environment_variables": {},
   "exception": null,
   "input_path": "__notebook__.ipynb",
   "output_path": "__notebook__.ipynb",
   "parameters": {},
   "start_time": "2025-05-04T07:36:59.568462",
   "version": "2.6.0"
  }
 },
 "nbformat": 4,
 "nbformat_minor": 5
}
